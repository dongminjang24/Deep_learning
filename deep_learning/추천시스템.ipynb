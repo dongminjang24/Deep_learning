version https://git-lfs.github.com/spec/v1
oid sha256:40c080acd75e5b137bd3fff59a6dc58aa79e55eb36558a551bc9dea1538b40f6
size 14986
