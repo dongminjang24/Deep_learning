version https://git-lfs.github.com/spec/v1
oid sha256:5075f1d3a4b9bb47a248a41783b102eb34b0d41bc0e1e9592fcc9775e9068970
size 39751
