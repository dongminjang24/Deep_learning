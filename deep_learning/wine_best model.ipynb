version https://git-lfs.github.com/spec/v1
oid sha256:89f42e366bada256ed823b48235a26995efc7757e7735602d93c34da4cd03cc2
size 552818
