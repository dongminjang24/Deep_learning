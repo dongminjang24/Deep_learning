version https://git-lfs.github.com/spec/v1
oid sha256:5f26189cc941654dd1a5436ceb0e9455f3bc31617e80d8e78ac85c3d2b1e7604
size 33617
