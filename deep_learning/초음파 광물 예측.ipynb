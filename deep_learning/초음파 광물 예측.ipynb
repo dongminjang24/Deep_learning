version https://git-lfs.github.com/spec/v1
oid sha256:a964d505441df4b59703e2340c724d49549067fb3063c6336262e56604cacac1
size 227389
