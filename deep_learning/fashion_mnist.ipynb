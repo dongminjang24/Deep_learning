version https://git-lfs.github.com/spec/v1
oid sha256:0e5af1df1dbb1296876e60d0aeae8a52fc285ca3c36e31683c1b2da071788f43
size 72961
