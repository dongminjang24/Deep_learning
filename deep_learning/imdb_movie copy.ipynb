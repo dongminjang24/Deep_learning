version https://git-lfs.github.com/spec/v1
oid sha256:89c6c401e6fbf9493ad6a3407f685183ca3501fba3b4a6c1414ece6562b9b334
size 17262
